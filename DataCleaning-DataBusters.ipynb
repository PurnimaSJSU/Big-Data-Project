{
 "cells": [
  {
   "cell_type": "code",
   "execution_count": null,
   "id": "4518c827",
   "metadata": {},
   "outputs": [],
   "source": [
    "import pandas as pd\n",
    "import numpy as np\n",
    "\n",
    "cars_df = pd.read_csv('consolidated_1.csv')\n",
    "cars_df # in total 1,048,575 rows × 54 columns"
   ]
  },
  {
   "cell_type": "code",
   "execution_count": null,
   "id": "a0ae6f86",
   "metadata": {},
   "outputs": [],
   "source": [
    "# dropping the 'cabin' column \n",
    "cars_df.drop(['cabin'], inplace=True, axis=1)\n",
    "\n",
    "# dropping the 'main_picture_url' column \n",
    "cars_df.drop(['main_picture_url'], inplace=True, axis=1)"
   ]
  },
  {
   "cell_type": "code",
   "execution_count": null,
   "id": "4bde5e86",
   "metadata": {
    "scrolled": true
   },
   "outputs": [],
   "source": [
    "# check for duplicates using the unique id and drop them\n",
    "cars_df['vin'].duplicated().sum()"
   ]
  },
  {
   "cell_type": "code",
   "execution_count": null,
   "id": "1fb41e27",
   "metadata": {},
   "outputs": [],
   "source": [
    "cars_df[cars_df.duplicated(['vin'], keep=False)] "
   ]
  },
  {
   "cell_type": "code",
   "execution_count": null,
   "id": "dfd0a73e",
   "metadata": {},
   "outputs": [],
   "source": [
    "# checking an example for a duplicate\n",
    "cars_df.loc[cars_df['vin'] == '3FA6P0H79GR344482']"
   ]
  },
  {
   "cell_type": "code",
   "execution_count": null,
   "id": "f115f070",
   "metadata": {},
   "outputs": [],
   "source": [
    "# dropping the duplicates\n",
    "cars_df.drop_duplicates(subset=['vin']) # in total: 1,048,542 rows × 53 columns"
   ]
  },
  {
   "cell_type": "code",
   "execution_count": null,
   "id": "98cd0336",
   "metadata": {
    "scrolled": true
   },
   "outputs": [],
   "source": [
    "cars_df.describe()"
   ]
  },
  {
   "cell_type": "code",
   "execution_count": null,
   "id": "933baad8",
   "metadata": {},
   "outputs": [],
   "source": [
    "# removing the 'in' inches mark in each entry for front_legroom, back_legroom, height, length, wheelbase, width\n",
    "\n",
    "cars_df['front_legroom'] = cars_df['front_legroom'].map(lambda x: str(x)[:-3])\n",
    "cars_df['back_legroom'] = cars_df['back_legroom'].map(lambda x: str(x)[:-3])\n",
    "cars_df['height'] = cars_df['height'].map(lambda x: str(x)[:-3])\n",
    "cars_df['width'] = cars_df['width'].map(lambda x: str(x)[:-3])\n",
    "cars_df['wheelbase'] = cars_df['wheelbase'].map(lambda x: str(x)[:-3])"
   ]
  },
  {
   "cell_type": "code",
   "execution_count": null,
   "id": "4d9e7e7d",
   "metadata": {},
   "outputs": [],
   "source": [
    "cars_df.loc[cars_df['back_legroom'] == ''] # 55,852 rows \n",
    "cars_df.loc[cars_df['back_legroom'] == ''] # 82,505 rows "
   ]
  },
  {
   "cell_type": "code",
   "execution_count": null,
   "id": "f463ceab",
   "metadata": {},
   "outputs": [],
   "source": [
    "# replacing empty strings with null values to be able to convert to float\n",
    "\n",
    "cars_df['front_legroom'] = cars_df['front_legroom'].replace('', np.nan, regex=True)\n",
    "cars_df['back_legroom'] = cars_df['back_legroom'].replace('', np.nan, regex=True)\n",
    "cars_df['height'] = cars_df['height'].replace('', np.nan, regex=True)\n",
    "cars_df['width'] = cars_df['width'].replace('', np.nan, regex=True)\n",
    "cars_df['wheelbase'] = cars_df['wheelbase'].replace('', np.nan, regex=True)\n",
    "# cars_df.loc[cars_df['front_legroom'] == np.nan] "
   ]
  },
  {
   "cell_type": "code",
   "execution_count": null,
   "id": "4585eb87",
   "metadata": {},
   "outputs": [],
   "source": [
    "# converting the selected rows to float\n",
    "\n",
    "cars_df = cars_df.astype({'front_legroom': 'float64', 'back_legroom': 'float64', 'height': 'float64', 'width': 'float64', \n",
    "               'wheelbase': 'float64'})"
   ]
  },
  {
   "cell_type": "markdown",
   "id": "ac476752",
   "metadata": {},
   "source": [
    " 'Wagon' then 'W' \n",
    " when body_type = 'Van' then 'V' \n",
    " when body_type = 'SUV / Crossover' then 'S' \n",
    " when body_type = 'Sedan' then 'D' \n",
    " when body_type = 'Pickup Truck' then 'T' \n",
    " when body_type = 'Minivan' then 'M' \n",
    " when body_type = 'Hatchback' then 'H' \n",
    " when body_type = 'Coupe' then 'C' \n",
    " when body_type = 'Convertible' then 'O'\n"
   ]
  },
  {
   "cell_type": "code",
   "execution_count": null,
   "id": "ae90a841",
   "metadata": {},
   "outputs": [],
   "source": [
    "# replacing body_type with abbreviation\n",
    "        \n",
    "cars_df['body_type'] = cars_df['body_type'].replace('Van', 'V', regex=True)\n",
    "cars_df['body_type'] = cars_df['body_type'].replace('SUV / Crossover', 'S', regex=True)\n",
    "cars_df['body_type'] = cars_df['body_type'].replace('Sedan', 'D', regex=True)\n",
    "cars_df['body_type'] = cars_df['body_type'].replace('Pickup Truck', 'T', regex=True)\n",
    "cars_df['body_type'] = cars_df['body_type'].replace('Hatchback', 'H', regex=True)\n",
    "cars_df['body_type'] = cars_df['body_type'].replace('Coupe', 'C', regex=True)\n",
    "cars_df['body_type'] = cars_df['body_type'].replace('Convertible', 'O', regex=True)\n",
    "cars_df['body_type'] = cars_df['body_type'].replace('Wagon', 'W', regex=True)\n",
    "cars_df['body_type'] = cars_df['body_type'].replace('Minivan', 'M', regex=True)\n",
    "\n",
    "# cars_df['body_type'].unique()"
   ]
  },
  {
   "cell_type": "code",
   "execution_count": null,
   "id": "d7f3c15d",
   "metadata": {},
   "outputs": [],
   "source": [
    "cars_df.isna().sum()"
   ]
  },
  {
   "cell_type": "code",
   "execution_count": null,
   "id": "4e327361",
   "metadata": {
    "scrolled": true
   },
   "outputs": [],
   "source": [
    "cars_df.dtypes"
   ]
  },
  {
   "cell_type": "raw",
   "id": "ab59b7f1",
   "metadata": {},
   "source": [
    "'''\n",
    "cars_df.columns\n",
    "Index(['vin', 'back_legroom', 'body_type', 'city', 'city_fuel_economy',\n",
    "       'daysonmarket', 'dealer_zip', 'engine_displacement', 'engine_type',\n",
    "       'exterior_color', 'fleet', 'frame_damaged', 'franchise_dealer',\n",
    "       'franchise_make', 'front_legroom', 'fuel_tank_volume', 'fuel_type',\n",
    "       'has_accidents', 'height', 'highway_fuel_economy', 'horsepower',\n",
    "       'interior_color', 'isCab', 'is_certified', 'is_cpo', 'is_new',\n",
    "       'is_oemcpo', 'latitude', 'length', 'listed_date', 'listing_color',\n",
    "       'listing_id', 'longitude', 'make_name', 'maximum_seating', 'mileage',\n",
    "       'model_name', 'owner_count', 'price', 'salvage', 'savings_amount',\n",
    "       'seller_rating', 'sp_id', 'theft_title', 'transmission',\n",
    "       'transmission_display', 'trimId', 'trim_name',\n",
    "       'vehicle_damage_category', 'wheel_system', 'wheelbase', 'width',\n",
    "       'year']\n",
    "'''"
   ]
  },
  {
   "cell_type": "code",
   "execution_count": null,
   "id": "d969f59b",
   "metadata": {},
   "outputs": [],
   "source": [
    "cars_df['interior_color']"
   ]
  },
  {
   "cell_type": "code",
   "execution_count": null,
   "id": "b034f7da",
   "metadata": {},
   "outputs": [],
   "source": [
    "# replacing colors\n",
    "# WHITE\n",
    "white = cars_df[cars_df['interior_color'].str.contains(\"white\", na=False)] # 776 rows\n",
    "unique_white = white['interior_color'].unique()\n",
    "'''\n",
    "array(['white', 'Minwhite', 'Majestic white', 'Ibis white', 'pearl white',\n",
    "       'glacier white metallic', 'Carrara white',\n",
    "       'Glacier white metallic', 'Cortina white', 'Superwhite',\n",
    "       'Gold,white', 'Off-white', 'White crystal white pearl',\n",
    "       'Pure white', 'Diamond white', 'diamond white',\n",
    "       'Moonlight white pearl', 'Glacierwhite', 'Offwhite',\n",
    "       'crystal white', 'carrara white metallic',\n",
    "       'mineral white metallic', 'Pearl_white', 'Red and white',\n",
    "       'alpine white', 'vice white', 'clear white', 'glacier white',\n",
    "       'frozen white met', 'pure white', 'white pearl', 'oxford white.',\n",
    "       'bright white cle', 'oxford white',\n",
    "       'Glacier white metallic / Black roof',\n",
    "       'Glacier white metallic / Red roof', 'Pearl white', 'Ultrawhite',\n",
    "       'Natural white', 'white metallic tri coat', 'Off white',\n",
    "       '[white] Glacier', 'Fuji white', 'Alpine white', 'cirrcus white',\n",
    "       'desingo diamond white', 'Crystalwhitepearl', 'white silver',\n",
    "       'crystal white pearl metallic', 'crystal white metallic',\n",
    "       'Crystalwhite', 'white      Warranty', 'Bright white',\n",
    "       'Chalkwhite', 'Clear_white', 'Glacial_white', 'Snow_white_pear',\n",
    "       'Star_white_tri-Coa', 'Purewhite', 'Pure_white', 'Winter white',\n",
    "       'Sumitwhite'], dtype=object)\n",
    "'''"
   ]
  },
  {
   "cell_type": "code",
   "execution_count": null,
   "id": "f53298c6",
   "metadata": {},
   "outputs": [],
   "source": [
    "cars_df['interior_color'] = cars_df['interior_color'].replace(unique_white, 'white',regex=True)"
   ]
  },
  {
   "cell_type": "code",
   "execution_count": null,
   "id": "905e4083",
   "metadata": {},
   "outputs": [],
   "source": [
    "# replacing colors\n",
    "# BLUE\n",
    "blue = cars_df[cars_df['interior_color'].str.contains(\"Blue\", na=False)] # 91900 rows \n",
    "unique_blue = blue['interior_color'].unique()\n",
    "# BLACK\n",
    "black = cars_df[cars_df['interior_color'].str.contains(\"Black\", na=False)]\n",
    "unique_black = black['interior_color'].unique()\n",
    "# YELLOW\n",
    "yellow = cars_df[cars_df['interior_color'].str.contains(\"Yellow\", na=False)]\n",
    "unique_yellow = yellow['interior_color'].unique()\n",
    "# RED\n",
    "red = cars_df[cars_df['interior_color'].str.contains(\"Red\", na=False)]\n",
    "unique_red = red['interior_color'].unique() #######"
   ]
  },
  {
   "cell_type": "code",
   "execution_count": null,
   "id": "e7aba9b1",
   "metadata": {},
   "outputs": [],
   "source": [
    "cars_df['interior_color'] = cars_df['interior_color'].replace(unique_blue, 'blue',regex=True)"
   ]
  },
  {
   "cell_type": "code",
   "execution_count": null,
   "id": "f542d397",
   "metadata": {},
   "outputs": [],
   "source": [
    "cars_df['interior_color'] = cars_df['interior_color'].replace(unique_black, 'black',regex=True)"
   ]
  },
  {
   "cell_type": "code",
   "execution_count": null,
   "id": "402f723d",
   "metadata": {},
   "outputs": [],
   "source": [
    "cars_df['interior_color'] = cars_df['interior_color'].replace(unique_yellow, 'yellow',regex=True)"
   ]
  },
  {
   "cell_type": "code",
   "execution_count": null,
   "id": "24117685",
   "metadata": {},
   "outputs": [],
   "source": [
    "cars_df['interior_color'] = cars_df['interior_color'].replace(unique_red, 'red',regex=True)"
   ]
  },
  {
   "cell_type": "code",
   "execution_count": null,
   "id": "377a6bdb",
   "metadata": {},
   "outputs": [],
   "source": [
    "# GRAY, SILVER, TUNGSTEN, STONE, GRAPHITE, PEARL, METALLIC\n",
    "gray = cars_df[cars_df['interior_color'].str.contains([\"Grey\", \"Gray\", \"Silver\", \"Tungsten\", \"Stone\", \"Graphite\", \n",
    "                                                       \"Pearl\", \"Metallic\"],\n",
    "                                                      na=False)]\n",
    "unique_gray = gray['interior_color'].unique()\n",
    "cars_df['interior_color'] = cars_df['interior_color'].replace(unique_gray, 'gray',regex=True)"
   ]
  },
  {
   "cell_type": "raw",
   "id": "61a68e68",
   "metadata": {},
   "source": [
    "cars_df['interior_color'].unique()"
   ]
  },
  {
   "cell_type": "code",
   "execution_count": null,
   "id": "c964ec89",
   "metadata": {},
   "outputs": [],
   "source": [
    "cars_df.to_csv('Cleaned_UsedCars.csv', encoding='utf-8')"
   ]
  },
  {
   "cell_type": "code",
   "execution_count": null,
   "id": "e829fbe7",
   "metadata": {},
   "outputs": [],
   "source": []
  }
 ],
 "metadata": {
  "kernelspec": {
   "display_name": "Python 3",
   "language": "python",
   "name": "python3"
  },
  "language_info": {
   "codemirror_mode": {
    "name": "ipython",
    "version": 3
   },
   "file_extension": ".py",
   "mimetype": "text/x-python",
   "name": "python",
   "nbconvert_exporter": "python",
   "pygments_lexer": "ipython3",
   "version": "3.8.8"
  }
 },
 "nbformat": 4,
 "nbformat_minor": 5
}
